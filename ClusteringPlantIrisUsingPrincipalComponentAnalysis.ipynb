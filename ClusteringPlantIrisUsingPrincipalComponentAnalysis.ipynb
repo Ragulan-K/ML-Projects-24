{
  "nbformat": 4,
  "nbformat_minor": 0,
  "metadata": {
    "colab": {
      "provenance": [],
      "authorship_tag": "ABX9TyMzqwDrekYOL4scbPN+Vjw1",
      "include_colab_link": true
    },
    "kernelspec": {
      "name": "python3",
      "display_name": "Python 3"
    },
    "language_info": {
      "name": "python"
    }
  },
  "cells": [
    {
      "cell_type": "markdown",
      "metadata": {
        "id": "view-in-github",
        "colab_type": "text"
      },
      "source": [
        "<a href=\"https://colab.research.google.com/github/Ragulan-K/ML-Projects-24/blob/main/ClusteringPlantIrisUsingPrincipalComponentAnalysis.ipynb\" target=\"_parent\"><img src=\"https://colab.research.google.com/assets/colab-badge.svg\" alt=\"Open In Colab\"/></a>"
      ]
    },
    {
      "cell_type": "markdown",
      "source": [
        "##Importing the basic libraries"
      ],
      "metadata": {
        "id": "l1R4ZFwe21NM"
      }
    },
    {
      "cell_type": "code",
      "execution_count": null,
      "metadata": {
        "id": "nyxskl0J2apE"
      },
      "outputs": [],
      "source": [
        "from sklearn import datasets\n",
        "import matplotlib.pyplot as plt"
      ]
    },
    {
      "cell_type": "markdown",
      "source": [
        "##Importing the dataset"
      ],
      "metadata": {
        "id": "ZAllFe0H26Jc"
      }
    },
    {
      "cell_type": "code",
      "source": [
        "dataset = datasets.load_iris()"
      ],
      "metadata": {
        "id": "ozhUcY6B2-3L"
      },
      "execution_count": null,
      "outputs": []
    },
    {
      "cell_type": "markdown",
      "source": [
        "##Dataset Segregation"
      ],
      "metadata": {
        "id": "I4Bszyco3Avu"
      }
    },
    {
      "cell_type": "code",
      "source": [
        "X = dataset.data\n",
        "y = dataset.target\n",
        "names = dataset.target_names"
      ],
      "metadata": {
        "id": "3mXJFAZg3FgU"
      },
      "execution_count": null,
      "outputs": []
    },
    {
      "cell_type": "markdown",
      "source": [
        "##Fitting the PCA clustering to the dataset with n=2"
      ],
      "metadata": {
        "id": "ls-wwNLb3H6M"
      }
    },
    {
      "cell_type": "code",
      "source": [
        "from sklearn.decomposition import PCA\n",
        "model = PCA(n_components=2) #Number of components to keep\n",
        "y_means = model.fit(X).transform(X)"
      ],
      "metadata": {
        "id": "oFHVdmrj3NrT"
      },
      "execution_count": null,
      "outputs": []
    },
    {
      "cell_type": "markdown",
      "source": [
        "##Variance Percentage"
      ],
      "metadata": {
        "id": "YK5Rvi8T3PXL"
      }
    },
    {
      "cell_type": "code",
      "source": [
        "plt.figure()\n",
        "colors = ['red', 'green', 'orange']\n",
        "\n",
        "for color, i, target_name in zip(colors, [0, 1, 2], names):\n",
        "    plt.scatter(y_means[y == i, 0], y_means[y == i, 1], color=color, lw = 2, label=target_name)\n",
        "plt.title('IRIS Clusterring')\n",
        "plt.show()"
      ],
      "metadata": {
        "id": "i0lLA-rW3YM0"
      },
      "execution_count": null,
      "outputs": []
    }
  ]
}