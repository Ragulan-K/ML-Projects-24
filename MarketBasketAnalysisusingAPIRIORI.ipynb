{
  "nbformat": 4,
  "nbformat_minor": 0,
  "metadata": {
    "colab": {
      "provenance": [],
      "authorship_tag": "ABX9TyOQV3aC5i9GlQIdfadQlSaT",
      "include_colab_link": true
    },
    "kernelspec": {
      "name": "python3",
      "display_name": "Python 3"
    },
    "language_info": {
      "name": "python"
    }
  },
  "cells": [
    {
      "cell_type": "markdown",
      "metadata": {
        "id": "view-in-github",
        "colab_type": "text"
      },
      "source": [
        "<a href=\"https://colab.research.google.com/github/Ragulan-K/ML-Projects-24/blob/main/MarketBasketAnalysisusingAPIRIORI.ipynb\" target=\"_parent\"><img src=\"https://colab.research.google.com/assets/colab-badge.svg\" alt=\"Open In Colab\"/></a>"
      ]
    },
    {
      "cell_type": "markdown",
      "source": [
        "##Importing the basic libraries"
      ],
      "metadata": {
        "id": "cCyAvAtrmq0_"
      }
    },
    {
      "cell_type": "code",
      "execution_count": null,
      "metadata": {
        "id": "KTy5rHEKmQgk"
      },
      "outputs": [],
      "source": [
        "import numpy as np\n",
        "import pandas as pd\n",
        "import matplotlib.pyplot as plt"
      ]
    },
    {
      "cell_type": "markdown",
      "source": [
        "##Load Dataset from Local Directory"
      ],
      "metadata": {
        "id": "rSP2cQgvmwMu"
      }
    },
    {
      "cell_type": "code",
      "source": [
        "from google.colab import files\n",
        "uploaded = files.upload()"
      ],
      "metadata": {
        "id": "rjBquExfmy_Z"
      },
      "execution_count": null,
      "outputs": []
    },
    {
      "cell_type": "markdown",
      "source": [
        "##Importing the dataset"
      ],
      "metadata": {
        "id": "j85krEcJm1gv"
      }
    },
    {
      "cell_type": "code",
      "source": [
        "dataset = pd.read_csv('dataset.csv')\n",
        "print(dataset.shape)\n",
        "print(dataset.head(5))"
      ],
      "metadata": {
        "id": "yOyT4aQxm6Vv"
      },
      "execution_count": null,
      "outputs": []
    },
    {
      "cell_type": "markdown",
      "source": [
        "##Data Pre-Processing"
      ],
      "metadata": {
        "id": "r00OORTDm74O"
      }
    },
    {
      "cell_type": "code",
      "source": [
        "transactions = []\n",
        "for i in range(0, 7500):\n",
        "  transactions.append([str(dataset.values[i,j]) for j in range(0, 20)])\n",
        "transactions"
      ],
      "metadata": {
        "id": "BhaQVcQenEtO"
      },
      "execution_count": null,
      "outputs": []
    },
    {
      "cell_type": "markdown",
      "source": [
        "##Training APRIORI"
      ],
      "metadata": {
        "id": "AjdW6zU7nIMW"
      }
    },
    {
      "cell_type": "code",
      "source": [
        "!pip install apyori\n",
        "from apyori import apriori\n",
        "rules = apriori(transactions = transactions, min_support = 0.003, min_confidence = 0.2, min_lift = 3, min_length = 2, max_length = 2)"
      ],
      "metadata": {
        "id": "Y9kbKI18nNLH"
      },
      "execution_count": null,
      "outputs": []
    },
    {
      "cell_type": "markdown",
      "source": [
        "##Result"
      ],
      "metadata": {
        "id": "DT_4v1qrnSxv"
      }
    },
    {
      "cell_type": "code",
      "source": [
        "results = list(rules)\n",
        "results"
      ],
      "metadata": {
        "id": "QOcjlqZonWI_"
      },
      "execution_count": null,
      "outputs": []
    },
    {
      "cell_type": "markdown",
      "source": [
        "##Results in Dataframe"
      ],
      "metadata": {
        "id": "M7jV4vGZnY4W"
      }
    },
    {
      "cell_type": "code",
      "source": [
        "lhs         = [tuple(result[2][0][0])[0] for result in results]\n",
        "rhs         = [tuple(result[2][0][1])[0] for result in results]\n",
        "supports    = [result[1] for result in results]\n",
        "confidences = [result[2][0][2] for result in results]\n",
        "lifts       = [result[2][0][3] for result in results]\n",
        "resultsinDataFrame = pd.DataFrame(zip(lhs, rhs, supports, confidences, lifts), columns = ['Left Hand Side', 'Right Hand Side', 'Support', 'Confidence', 'Lift'])\n",
        "resultsinDataFrame"
      ],
      "metadata": {
        "id": "zQw0zbeCnlcg"
      },
      "execution_count": null,
      "outputs": []
    }
  ]
}