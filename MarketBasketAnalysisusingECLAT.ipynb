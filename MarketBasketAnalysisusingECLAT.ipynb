{
  "nbformat": 4,
  "nbformat_minor": 0,
  "metadata": {
    "colab": {
      "provenance": [],
      "authorship_tag": "ABX9TyPaVVihxxY9B0hO3Gxna/DA",
      "include_colab_link": true
    },
    "kernelspec": {
      "name": "python3",
      "display_name": "Python 3"
    },
    "language_info": {
      "name": "python"
    }
  },
  "cells": [
    {
      "cell_type": "markdown",
      "metadata": {
        "id": "view-in-github",
        "colab_type": "text"
      },
      "source": [
        "<a href=\"https://colab.research.google.com/github/Ragulan-K/ML-Projects-24/blob/main/MarketBasketAnalysisusingECLAT.ipynb\" target=\"_parent\"><img src=\"https://colab.research.google.com/assets/colab-badge.svg\" alt=\"Open In Colab\"/></a>"
      ]
    },
    {
      "cell_type": "markdown",
      "source": [
        "##Importing the basic libraries"
      ],
      "metadata": {
        "id": "P8TYcmBjtwkd"
      }
    },
    {
      "cell_type": "code",
      "execution_count": null,
      "metadata": {
        "id": "bGAT2NG-tdHz"
      },
      "outputs": [],
      "source": [
        "import numpy as np\n",
        "import pandas as pd\n",
        "import matplotlib.pyplot as plt"
      ]
    },
    {
      "cell_type": "markdown",
      "source": [
        "##Load Dataset from Local Directory"
      ],
      "metadata": {
        "id": "CmOd4lpZt09d"
      }
    },
    {
      "cell_type": "code",
      "source": [
        "from google.colab import files\n",
        "uploaded = files.upload()"
      ],
      "metadata": {
        "id": "jz-NQKZ7t43e"
      },
      "execution_count": null,
      "outputs": []
    },
    {
      "cell_type": "markdown",
      "source": [
        "##Importing the dataset"
      ],
      "metadata": {
        "id": "bAvqGwc9t68m"
      }
    },
    {
      "cell_type": "code",
      "source": [
        "dataset = pd.read_csv('dataset1.csv')\n",
        "print(dataset.shape)\n",
        "print(dataset.head(5))"
      ],
      "metadata": {
        "id": "GrKpVKj4t9pE"
      },
      "execution_count": null,
      "outputs": []
    },
    {
      "cell_type": "markdown",
      "source": [
        "##Data Pre-Processing"
      ],
      "metadata": {
        "id": "afuLSOUvt_a9"
      }
    },
    {
      "cell_type": "code",
      "source": [
        "transactions = []\n",
        "for i in range(0, 7500):\n",
        "  transactions.append([str(dataset.values[i,j]) for j in range(0, 20)])\n",
        "transactions"
      ],
      "metadata": {
        "id": "TNlBBa3xuBzd"
      },
      "execution_count": null,
      "outputs": []
    },
    {
      "cell_type": "markdown",
      "source": [
        "##Training APRIORI"
      ],
      "metadata": {
        "id": "jb7FF621uDkt"
      }
    },
    {
      "cell_type": "code",
      "source": [
        "!pip install apyori\n",
        "from apyori import apriori\n",
        "rules = apriori(transactions = transactions, min_support = 0.003, min_confidence = 0.2, min_lift = 3, min_length = 2, max_length = 2)"
      ],
      "metadata": {
        "id": "lt2c23pWuGS1"
      },
      "execution_count": null,
      "outputs": []
    },
    {
      "cell_type": "markdown",
      "source": [
        "##Result"
      ],
      "metadata": {
        "id": "JlkJfyNruLDd"
      }
    },
    {
      "cell_type": "code",
      "source": [
        "results = list(rules)\n",
        "results"
      ],
      "metadata": {
        "id": "LJRdWEgSuNr1"
      },
      "execution_count": null,
      "outputs": []
    },
    {
      "cell_type": "markdown",
      "source": [
        "##Results in Dataframe"
      ],
      "metadata": {
        "id": "9ULN-SIzuSGW"
      }
    },
    {
      "cell_type": "code",
      "source": [
        "lhs         = [tuple(result[2][0][0])[0] for result in results]\n",
        "rhs         = [tuple(result[2][0][1])[0] for result in results]\n",
        "supports    = [result[1] for result in results]\n",
        "resultsinDataFrame = pd.DataFrame(zip(lhs, rhs, supports), columns = ['Left Hand Side', 'Right Hand Side', 'Support'])\n",
        "resultsinDataFrame"
      ],
      "metadata": {
        "id": "WlQVcFM1uWte"
      },
      "execution_count": null,
      "outputs": []
    },
    {
      "cell_type": "code",
      "source": [
        "resultsinDataFrame.nlargest(n = 10, columns = 'Support')"
      ],
      "metadata": {
        "id": "RXhDe6yfudDN"
      },
      "execution_count": null,
      "outputs": []
    }
  ]
}