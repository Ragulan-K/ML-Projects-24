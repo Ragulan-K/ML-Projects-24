{
  "nbformat": 4,
  "nbformat_minor": 0,
  "metadata": {
    "colab": {
      "provenance": [],
      "authorship_tag": "ABX9TyPFpNapLuNALwOWo8qu7OH3",
      "include_colab_link": true
    },
    "kernelspec": {
      "name": "python3",
      "display_name": "Python 3"
    },
    "language_info": {
      "name": "python"
    }
  },
  "cells": [
    {
      "cell_type": "markdown",
      "metadata": {
        "id": "view-in-github",
        "colab_type": "text"
      },
      "source": [
        "<a href=\"https://colab.research.google.com/github/Ragulan-K/ML-Projects-24/blob/main/WebAdOptimization_UpperConfidenceBound_ReinforcementLearning.ipynb\" target=\"_parent\"><img src=\"https://colab.research.google.com/assets/colab-badge.svg\" alt=\"Open In Colab\"/></a>"
      ]
    },
    {
      "cell_type": "markdown",
      "source": [
        "##Importing the basic libraries"
      ],
      "metadata": {
        "id": "GxHMbaK2W_0z"
      }
    },
    {
      "cell_type": "code",
      "source": [
        "import numpy as np\n",
        "import pandas as pd\n",
        "import matplotlib.pyplot as plt"
      ],
      "metadata": {
        "id": "H0Y8xMinXERK"
      },
      "execution_count": null,
      "outputs": []
    },
    {
      "cell_type": "markdown",
      "source": [
        "##Load Dataset from Local Directory"
      ],
      "metadata": {
        "id": "AWtFkJ0wXFBS"
      }
    },
    {
      "cell_type": "code",
      "execution_count": null,
      "metadata": {
        "id": "bN1_RjgyW0AE"
      },
      "outputs": [],
      "source": [
        "from google.colab import files\n",
        "uploaded = files.upload()"
      ]
    },
    {
      "cell_type": "markdown",
      "source": [
        "##Importing the dataset"
      ],
      "metadata": {
        "id": "ihOMRQv3XJ7K"
      }
    },
    {
      "cell_type": "code",
      "source": [
        "dataset = pd.read_csv('dataset.csv')\n",
        "print(dataset.shape)\n",
        "print(dataset.head(5))"
      ],
      "metadata": {
        "id": "Hcaz44V2XQVx"
      },
      "execution_count": null,
      "outputs": []
    },
    {
      "cell_type": "markdown",
      "source": [
        "##Upper Confidence Bound"
      ],
      "metadata": {
        "id": "3yxRVx1DXhBi"
      }
    },
    {
      "cell_type": "code",
      "source": [
        "import math\n",
        "observations = 10000\n",
        "no_of_Ads = 10\n",
        "ads_selected = []\n",
        "numbers_of_selections_of_each_ads = [0] * no_of_Ads\n",
        "sums_of_rewards_of_each_ads = [0] * no_of_Ads\n",
        "total_reward = 0\n",
        "for n in range(0, observations):\n",
        "    ad = 0\n",
        "    max_upper_bound = 0\n",
        "    for i in range(0, no_of_Ads):\n",
        "        if (numbers_of_selections_of_each_ads[i] > 0):\n",
        "            average_reward = sums_of_rewards_of_each_ads[i] / numbers_of_selections_of_each_ads[i]\n",
        "            delta_i = math.sqrt(3/2 * math.log(n + 1) / numbers_of_selections_of_each_ads[i])\n",
        "            upper_bound = average_reward + delta_i\n",
        "        else:\n",
        "            upper_bound = 1e400\n",
        "        if upper_bound > max_upper_bound:\n",
        "            max_upper_bound = upper_bound\n",
        "            ad = i\n",
        "    ads_selected.append(ad)\n",
        "    numbers_of_selections_of_each_ads[ad] = numbers_of_selections_of_each_ads[ad] + 1\n",
        "    reward = dataset.values[n, ad]\n",
        "    sums_of_rewards_of_each_ads[ad] = sums_of_rewards_of_each_ads[ad] + reward\n",
        "    total_reward = total_reward + reward\n",
        "\n",
        "print(\"Rewards by Ads = \",sums_of_rewards_of_each_ads)\n",
        "print(\"Total Rewards by UCB = \",total_reward)\n",
        "print(\"Ads selected at each round:\",ads_selected)"
      ],
      "metadata": {
        "id": "C1ZailI2XhMp"
      },
      "execution_count": null,
      "outputs": []
    },
    {
      "cell_type": "markdown",
      "source": [
        "##Visualizing Result"
      ],
      "metadata": {
        "id": "6oEXTcLiXmwp"
      }
    },
    {
      "cell_type": "code",
      "source": [
        "plt.hist(ads_selected)\n",
        "plt.title('Histogram of ads selections')\n",
        "plt.xlabel('Ads')\n",
        "plt.ylabel('Number of times each ad was selected')\n",
        "plt.show()"
      ],
      "metadata": {
        "id": "wimrg5brXu84"
      },
      "execution_count": null,
      "outputs": []
    }
  ]
}